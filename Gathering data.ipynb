{
 "cells": [
  {
   "cell_type": "code",
   "execution_count": 1,
   "id": "preliminary-panel",
   "metadata": {},
   "outputs": [],
   "source": [
    "import pandas as pd\n",
    "import gzip\n",
    "import json"
   ]
  },
  {
   "cell_type": "code",
   "execution_count": 2,
   "id": "greater-kentucky",
   "metadata": {},
   "outputs": [],
   "source": [
    "categories=['AMAZON_FASHION','Appliances']\n",
    "categories_dict={'AMAZON_FASHION':'Fashion','Appliances':'Appliances'}\n",
    "global list_izes\n",
    "list_sizes=[]"
   ]
  },
  {
   "cell_type": "code",
   "execution_count": 3,
   "id": "allied-access",
   "metadata": {},
   "outputs": [],
   "source": [
    "#Functions to unzip and read data from json files\n",
    "def parse(path):\n",
    "    g = gzip.open(path, 'rb')\n",
    "    for l in g:\n",
    "        yield json.loads(l)\n",
    "\n",
    "def getDF(path):\n",
    "    i = 0\n",
    "    df = {}\n",
    "    for d in parse(path):\n",
    "        df[i] = d\n",
    "        i += 1\n",
    "    #return pd.DataFrame.from_dict(df, orient='index')\n",
    "    if 'meta' in path:\n",
    "        list_sizes.append(len(df))\n",
    "    return df\n",
    "\n",
    "def getFrame(r_lst,m_lst):\n",
    "    r_final_list = list(map(lambda x: pd.DataFrame.from_dict(x, orient='index'), r_lst))\n",
    "    m_final_list = list(map(lambda x: pd.DataFrame.from_dict(x, orient='index'), m_lst))\n",
    "    r_data=pd.concat(r_final_list)\n",
    "    m_data=pd.concat(m_final_list)\n",
    "    return r_data,m_data"
   ]
  },
  {
   "cell_type": "code",
   "execution_count": 4,
   "id": "primary-museum",
   "metadata": {},
   "outputs": [],
   "source": [
    "def getPath(category):\n",
    "    r=[]\n",
    "    m=[]\n",
    "    for item in category:\n",
    "        review_path='./Data/'+item+'.json.gz'\n",
    "        meta_path='./Data/meta_'+item+'.json.gz'\n",
    "        r.append(review_path)\n",
    "        m.append(meta_path)\n",
    "    return r,m"
   ]
  },
  {
   "cell_type": "code",
   "execution_count": 5,
   "id": "secure-hearts",
   "metadata": {},
   "outputs": [],
   "source": [
    "def get_Data(categories):\n",
    "    all_data=[]\n",
    "    df_reviews=[]\n",
    "    df_meta=[]\n",
    "    for item in categories:\n",
    "        review_path='./Data/'+item+'.json.gz'\n",
    "        meta_path='./Data/meta_'+item+'.json.gz'\n",
    "        df_reviews.append(getDF(review_path))\n",
    "        df_meta.append(getDF(meta_path))\n",
    "    #return pd.DataFrame.from_dict(df_reviews, orient='index'),pd.DataFrame.from_dict(df_meta, orient='index')\n",
    "    f_review,f_meta=getFrame(df_reviews,df_meta)\n",
    "    return f_review,f_meta"
   ]
  },
  {
   "cell_type": "code",
   "execution_count": 6,
   "id": "steady-israeli",
   "metadata": {},
   "outputs": [],
   "source": [
    "list_sizes=[]\n",
    "review_data,meta_data=get_Data(categories)"
   ]
  },
  {
   "cell_type": "code",
   "execution_count": 7,
   "id": "emerging-dragon",
   "metadata": {},
   "outputs": [],
   "source": [
    "review_data=review_data.reset_index(drop=True)\n",
    "meta_data=meta_data.reset_index(drop=True)"
   ]
  },
  {
   "cell_type": "code",
   "execution_count": 8,
   "id": "undefined-transformation",
   "metadata": {},
   "outputs": [
    {
     "data": {
      "text/plain": [
       "[186637, 30445]"
      ]
     },
     "execution_count": 8,
     "metadata": {},
     "output_type": "execute_result"
    }
   ],
   "source": [
    "list_sizes"
   ]
  },
  {
   "cell_type": "code",
   "execution_count": 9,
   "id": "worth-constitution",
   "metadata": {},
   "outputs": [
    {
     "data": {
      "text/plain": [
       "(217082, 18)"
      ]
     },
     "execution_count": 9,
     "metadata": {},
     "output_type": "execute_result"
    }
   ],
   "source": [
    "meta_data.shape"
   ]
  },
  {
   "cell_type": "code",
   "execution_count": 10,
   "id": "empirical-stone",
   "metadata": {},
   "outputs": [],
   "source": [
    "#Adding category column to metadata files\n",
    "meta_data['category']=''*meta_data.shape[0]"
   ]
  },
  {
   "cell_type": "code",
   "execution_count": 11,
   "id": "unlike-outside",
   "metadata": {},
   "outputs": [
    {
     "data": {
      "text/plain": [
       "RangeIndex(start=0, stop=217082, step=1)"
      ]
     },
     "execution_count": 11,
     "metadata": {},
     "output_type": "execute_result"
    }
   ],
   "source": [
    "meta_data.index"
   ]
  },
  {
   "cell_type": "code",
   "execution_count": 12,
   "id": "younger-visibility",
   "metadata": {},
   "outputs": [],
   "source": [
    "for k,row in meta_data.iterrows():\n",
    "    if k<list_sizes[0]:\n",
    "        row['category']=categories_dict[categories[0]]\n",
    "    else:\n",
    "        row['category']=categories_dict[categories[1]]"
   ]
  },
  {
   "cell_type": "code",
   "execution_count": 13,
   "id": "quick-jason",
   "metadata": {},
   "outputs": [
    {
     "name": "stdout",
     "output_type": "stream",
     "text": [
      "(1486413, 12)\n",
      "(217082, 18)\n"
     ]
    }
   ],
   "source": [
    "print(review_data.shape)\n",
    "print(meta_data.shape)"
   ]
  },
  {
   "cell_type": "code",
   "execution_count": 14,
   "id": "pleased-special",
   "metadata": {},
   "outputs": [],
   "source": [
    "meta_data=meta_data.drop('date',axis=1)"
   ]
  },
  {
   "cell_type": "code",
   "execution_count": 15,
   "id": "relative-missile",
   "metadata": {},
   "outputs": [],
   "source": [
    "#Cleaning up meta data\n",
    "index_lst=meta_data.loc[meta_data['title'].str.startswith('var ',na=False)].index\n",
    "for val in index_lst:\n",
    "    meta_data.loc[val,'title']=meta_data.loc[val,'category']"
   ]
  },
  {
   "cell_type": "code",
   "execution_count": 16,
   "id": "japanese-performance",
   "metadata": {},
   "outputs": [],
   "source": [
    "review_data.to_csv('./Data/review_data.csv')"
   ]
  },
  {
   "cell_type": "code",
   "execution_count": 17,
   "id": "resident-inside",
   "metadata": {},
   "outputs": [],
   "source": [
    "meta_data.to_csv('./Data/meta_data.csv')"
   ]
  }
 ],
 "metadata": {
  "kernelspec": {
   "display_name": "Python 3",
   "language": "python",
   "name": "python3"
  },
  "language_info": {
   "codemirror_mode": {
    "name": "ipython",
    "version": 3
   },
   "file_extension": ".py",
   "mimetype": "text/x-python",
   "name": "python",
   "nbconvert_exporter": "python",
   "pygments_lexer": "ipython3",
   "version": "3.8.5"
  }
 },
 "nbformat": 4,
 "nbformat_minor": 5
}
